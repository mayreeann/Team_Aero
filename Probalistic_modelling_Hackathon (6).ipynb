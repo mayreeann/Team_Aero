{
 "cells": [
  {
   "cell_type": "markdown",
   "metadata": {},
   "source": [
    "### <h3 style=\"background-color:#4895ef;color:white;text-align: center;padding-top: 5px;padding-bottom: 5px;border-radius: 15px 50px;\"><strong><centre>Team Aero's Hackathon <br> Games Data Science Portfolio Project: <br> Probabilistic Sales Forecasting using Discrete Distribution Models </centre></strong></h3>"
   ]
  },
  {
   "cell_type": "markdown",
   "metadata": {},
   "source": [
    "The objective of this hackathon project is to explore a sales dataset, understand consumer behaviour and purchasing patterns of the store's customer's in the first quarter and forecast sales outcomes through the second quarter, draw insights and profer credible solutions.\n",
    "<br>In this Hackathon, we focused on some of the technical aspects of this project."
   ]
  },
  {
   "cell_type": "markdown",
   "metadata": {},
   "source": [
    "### <h3 style=\"background-color:#4895ef;color:white;text-align: center;padding-top: 5px;padding-bottom: 5px;border-radius: 15px 50px;\"><strong><centre>Importing Libraries & Packages 📚 </centre></strong></h3>"
   ]
  },
  {
   "cell_type": "code",
   "execution_count": 1,
   "metadata": {},
   "outputs": [],
   "source": [
    "#import libraries\n",
    "import pandas as pd\n",
    "import matplotlib.pyplot as plt\n",
    "import seaborn as sns\n",
    "import numpy as np\n",
    "%matplotlib inline"
   ]
  },
  {
   "cell_type": "code",
   "execution_count": 2,
   "metadata": {},
   "outputs": [],
   "source": [
    "#load the dataset\n",
    "sales_data = pd.read_csv(\"https://raw.githubusercontent.com/gamesconsort/cga-internship-projects/main/probabilistic-sales-forecasting/data/supermarket_sales_data\")"
   ]
  },
  {
   "cell_type": "code",
   "execution_count": 3,
   "metadata": {},
   "outputs": [
    {
     "data": {
      "text/html": [
       "<div>\n",
       "<style scoped>\n",
       "    .dataframe tbody tr th:only-of-type {\n",
       "        vertical-align: middle;\n",
       "    }\n",
       "\n",
       "    .dataframe tbody tr th {\n",
       "        vertical-align: top;\n",
       "    }\n",
       "\n",
       "    .dataframe thead th {\n",
       "        text-align: right;\n",
       "    }\n",
       "</style>\n",
       "<table border=\"1\" class=\"dataframe\">\n",
       "  <thead>\n",
       "    <tr style=\"text-align: right;\">\n",
       "      <th></th>\n",
       "      <th>Invoice ID</th>\n",
       "      <th>Branch</th>\n",
       "      <th>City</th>\n",
       "      <th>Customer type</th>\n",
       "      <th>Gender</th>\n",
       "      <th>Product line</th>\n",
       "      <th>Unit price</th>\n",
       "      <th>Quantity</th>\n",
       "      <th>Tax 5%</th>\n",
       "      <th>Total</th>\n",
       "      <th>Date</th>\n",
       "      <th>Time</th>\n",
       "      <th>Payment</th>\n",
       "      <th>cogs</th>\n",
       "      <th>gross margin percentage</th>\n",
       "      <th>gross income</th>\n",
       "      <th>Rating</th>\n",
       "    </tr>\n",
       "  </thead>\n",
       "  <tbody>\n",
       "    <tr>\n",
       "      <th>0</th>\n",
       "      <td>750-67-8428</td>\n",
       "      <td>A</td>\n",
       "      <td>Yangon</td>\n",
       "      <td>Member</td>\n",
       "      <td>Female</td>\n",
       "      <td>Health and beauty</td>\n",
       "      <td>74.69</td>\n",
       "      <td>7</td>\n",
       "      <td>26.1415</td>\n",
       "      <td>548.9715</td>\n",
       "      <td>1/5/2019</td>\n",
       "      <td>13:08</td>\n",
       "      <td>Ewallet</td>\n",
       "      <td>522.83</td>\n",
       "      <td>4.761905</td>\n",
       "      <td>26.1415</td>\n",
       "      <td>9.1</td>\n",
       "    </tr>\n",
       "    <tr>\n",
       "      <th>1</th>\n",
       "      <td>226-31-3081</td>\n",
       "      <td>C</td>\n",
       "      <td>Naypyitaw</td>\n",
       "      <td>Normal</td>\n",
       "      <td>Female</td>\n",
       "      <td>Electronic accessories</td>\n",
       "      <td>15.28</td>\n",
       "      <td>5</td>\n",
       "      <td>3.8200</td>\n",
       "      <td>80.2200</td>\n",
       "      <td>3/8/2019</td>\n",
       "      <td>10:29</td>\n",
       "      <td>Cash</td>\n",
       "      <td>76.40</td>\n",
       "      <td>4.761905</td>\n",
       "      <td>3.8200</td>\n",
       "      <td>9.6</td>\n",
       "    </tr>\n",
       "    <tr>\n",
       "      <th>2</th>\n",
       "      <td>631-41-3108</td>\n",
       "      <td>A</td>\n",
       "      <td>Yangon</td>\n",
       "      <td>Normal</td>\n",
       "      <td>Male</td>\n",
       "      <td>Home and lifestyle</td>\n",
       "      <td>46.33</td>\n",
       "      <td>7</td>\n",
       "      <td>16.2155</td>\n",
       "      <td>340.5255</td>\n",
       "      <td>3/3/2019</td>\n",
       "      <td>13:23</td>\n",
       "      <td>Credit card</td>\n",
       "      <td>324.31</td>\n",
       "      <td>4.761905</td>\n",
       "      <td>16.2155</td>\n",
       "      <td>7.4</td>\n",
       "    </tr>\n",
       "    <tr>\n",
       "      <th>3</th>\n",
       "      <td>123-19-1176</td>\n",
       "      <td>A</td>\n",
       "      <td>Yangon</td>\n",
       "      <td>Member</td>\n",
       "      <td>Male</td>\n",
       "      <td>Health and beauty</td>\n",
       "      <td>58.22</td>\n",
       "      <td>8</td>\n",
       "      <td>23.2880</td>\n",
       "      <td>489.0480</td>\n",
       "      <td>1/27/2019</td>\n",
       "      <td>20:33</td>\n",
       "      <td>Ewallet</td>\n",
       "      <td>465.76</td>\n",
       "      <td>4.761905</td>\n",
       "      <td>23.2880</td>\n",
       "      <td>8.4</td>\n",
       "    </tr>\n",
       "    <tr>\n",
       "      <th>4</th>\n",
       "      <td>373-73-7910</td>\n",
       "      <td>A</td>\n",
       "      <td>Yangon</td>\n",
       "      <td>Normal</td>\n",
       "      <td>Male</td>\n",
       "      <td>Sports and travel</td>\n",
       "      <td>86.31</td>\n",
       "      <td>7</td>\n",
       "      <td>30.2085</td>\n",
       "      <td>634.3785</td>\n",
       "      <td>2/8/2019</td>\n",
       "      <td>10:37</td>\n",
       "      <td>Ewallet</td>\n",
       "      <td>604.17</td>\n",
       "      <td>4.761905</td>\n",
       "      <td>30.2085</td>\n",
       "      <td>5.3</td>\n",
       "    </tr>\n",
       "  </tbody>\n",
       "</table>\n",
       "</div>"
      ],
      "text/plain": [
       "    Invoice ID Branch       City Customer type  Gender  \\\n",
       "0  750-67-8428      A     Yangon        Member  Female   \n",
       "1  226-31-3081      C  Naypyitaw        Normal  Female   \n",
       "2  631-41-3108      A     Yangon        Normal    Male   \n",
       "3  123-19-1176      A     Yangon        Member    Male   \n",
       "4  373-73-7910      A     Yangon        Normal    Male   \n",
       "\n",
       "             Product line  Unit price  Quantity   Tax 5%     Total       Date  \\\n",
       "0       Health and beauty       74.69         7  26.1415  548.9715   1/5/2019   \n",
       "1  Electronic accessories       15.28         5   3.8200   80.2200   3/8/2019   \n",
       "2      Home and lifestyle       46.33         7  16.2155  340.5255   3/3/2019   \n",
       "3       Health and beauty       58.22         8  23.2880  489.0480  1/27/2019   \n",
       "4       Sports and travel       86.31         7  30.2085  634.3785   2/8/2019   \n",
       "\n",
       "    Time      Payment    cogs  gross margin percentage  gross income  Rating  \n",
       "0  13:08      Ewallet  522.83                 4.761905       26.1415     9.1  \n",
       "1  10:29         Cash   76.40                 4.761905        3.8200     9.6  \n",
       "2  13:23  Credit card  324.31                 4.761905       16.2155     7.4  \n",
       "3  20:33      Ewallet  465.76                 4.761905       23.2880     8.4  \n",
       "4  10:37      Ewallet  604.17                 4.761905       30.2085     5.3  "
      ]
     },
     "execution_count": 3,
     "metadata": {},
     "output_type": "execute_result"
    }
   ],
   "source": [
    "#check the first five rows of the dataset\n",
    "sales_data.head()"
   ]
  },
  {
   "cell_type": "code",
   "execution_count": 4,
   "metadata": {},
   "outputs": [
    {
     "name": "stdout",
     "output_type": "stream",
     "text": [
      "<class 'pandas.core.frame.DataFrame'>\n",
      "RangeIndex: 1000 entries, 0 to 999\n",
      "Data columns (total 17 columns):\n",
      " #   Column                   Non-Null Count  Dtype  \n",
      "---  ------                   --------------  -----  \n",
      " 0   Invoice ID               1000 non-null   object \n",
      " 1   Branch                   1000 non-null   object \n",
      " 2   City                     1000 non-null   object \n",
      " 3   Customer type            1000 non-null   object \n",
      " 4   Gender                   1000 non-null   object \n",
      " 5   Product line             1000 non-null   object \n",
      " 6   Unit price               1000 non-null   float64\n",
      " 7   Quantity                 1000 non-null   int64  \n",
      " 8   Tax 5%                   1000 non-null   float64\n",
      " 9   Total                    1000 non-null   float64\n",
      " 10  Date                     1000 non-null   object \n",
      " 11  Time                     1000 non-null   object \n",
      " 12  Payment                  1000 non-null   object \n",
      " 13  cogs                     1000 non-null   float64\n",
      " 14  gross margin percentage  1000 non-null   float64\n",
      " 15  gross income             1000 non-null   float64\n",
      " 16  Rating                   1000 non-null   float64\n",
      "dtypes: float64(7), int64(1), object(9)\n",
      "memory usage: 132.9+ KB\n"
     ]
    }
   ],
   "source": [
    "#check the data distribution\n",
    "sales_data.info()"
   ]
  },
  {
   "cell_type": "code",
   "execution_count": 5,
   "metadata": {},
   "outputs": [
    {
     "data": {
      "text/plain": [
       "Invoice ID                 0\n",
       "Branch                     0\n",
       "City                       0\n",
       "Customer type              0\n",
       "Gender                     0\n",
       "Product line               0\n",
       "Unit price                 0\n",
       "Quantity                   0\n",
       "Tax 5%                     0\n",
       "Total                      0\n",
       "Date                       0\n",
       "Time                       0\n",
       "Payment                    0\n",
       "cogs                       0\n",
       "gross margin percentage    0\n",
       "gross income               0\n",
       "Rating                     0\n",
       "dtype: int64"
      ]
     },
     "execution_count": 5,
     "metadata": {},
     "output_type": "execute_result"
    }
   ],
   "source": [
    "#check for missing values\n",
    "sales_data.isna().sum()"
   ]
  },
  {
   "cell_type": "code",
   "execution_count": 6,
   "metadata": {},
   "outputs": [],
   "source": [
    "#replacing 2019 in the date field with 2022\n",
    "import datetime"
   ]
  },
  {
   "cell_type": "code",
   "execution_count": 7,
   "metadata": {},
   "outputs": [],
   "source": [
    "#transform Date column to datetime\n",
    "sales_data['Date'] = pd.to_datetime(sales_data['Date']) #convert the column to datetime to perform date operations                               \n",
    "sales_data['Date'] = sales_data['Date'].map(lambda x: x.replace(year = 2022))"
   ]
  },
  {
   "cell_type": "code",
   "execution_count": 8,
   "metadata": {},
   "outputs": [
    {
     "data": {
      "text/plain": [
       "0   2022-01-05\n",
       "1   2022-03-08\n",
       "2   2022-03-03\n",
       "3   2022-01-27\n",
       "4   2022-02-08\n",
       "Name: Date, dtype: datetime64[ns]"
      ]
     },
     "execution_count": 8,
     "metadata": {},
     "output_type": "execute_result"
    }
   ],
   "source": [
    "sales_data['Date'].head()"
   ]
  },
  {
   "cell_type": "code",
   "execution_count": 9,
   "metadata": {},
   "outputs": [
    {
     "data": {
      "text/html": [
       "<div>\n",
       "<style scoped>\n",
       "    .dataframe tbody tr th:only-of-type {\n",
       "        vertical-align: middle;\n",
       "    }\n",
       "\n",
       "    .dataframe tbody tr th {\n",
       "        vertical-align: top;\n",
       "    }\n",
       "\n",
       "    .dataframe thead th {\n",
       "        text-align: right;\n",
       "    }\n",
       "</style>\n",
       "<table border=\"1\" class=\"dataframe\">\n",
       "  <thead>\n",
       "    <tr style=\"text-align: right;\">\n",
       "      <th></th>\n",
       "      <th>Unit price</th>\n",
       "      <th>Quantity</th>\n",
       "      <th>Tax 5%</th>\n",
       "      <th>Total</th>\n",
       "      <th>cogs</th>\n",
       "      <th>gross margin percentage</th>\n",
       "      <th>gross income</th>\n",
       "      <th>Rating</th>\n",
       "    </tr>\n",
       "  </thead>\n",
       "  <tbody>\n",
       "    <tr>\n",
       "      <th>count</th>\n",
       "      <td>1000.000000</td>\n",
       "      <td>1000.000000</td>\n",
       "      <td>1000.000000</td>\n",
       "      <td>1000.000000</td>\n",
       "      <td>1000.00000</td>\n",
       "      <td>1.000000e+03</td>\n",
       "      <td>1000.000000</td>\n",
       "      <td>1000.00000</td>\n",
       "    </tr>\n",
       "    <tr>\n",
       "      <th>mean</th>\n",
       "      <td>55.672130</td>\n",
       "      <td>5.510000</td>\n",
       "      <td>15.379369</td>\n",
       "      <td>322.966749</td>\n",
       "      <td>307.58738</td>\n",
       "      <td>4.761905e+00</td>\n",
       "      <td>15.379369</td>\n",
       "      <td>6.97270</td>\n",
       "    </tr>\n",
       "    <tr>\n",
       "      <th>std</th>\n",
       "      <td>26.494628</td>\n",
       "      <td>2.923431</td>\n",
       "      <td>11.708825</td>\n",
       "      <td>245.885335</td>\n",
       "      <td>234.17651</td>\n",
       "      <td>6.131498e-14</td>\n",
       "      <td>11.708825</td>\n",
       "      <td>1.71858</td>\n",
       "    </tr>\n",
       "    <tr>\n",
       "      <th>min</th>\n",
       "      <td>10.080000</td>\n",
       "      <td>1.000000</td>\n",
       "      <td>0.508500</td>\n",
       "      <td>10.678500</td>\n",
       "      <td>10.17000</td>\n",
       "      <td>4.761905e+00</td>\n",
       "      <td>0.508500</td>\n",
       "      <td>4.00000</td>\n",
       "    </tr>\n",
       "    <tr>\n",
       "      <th>25%</th>\n",
       "      <td>32.875000</td>\n",
       "      <td>3.000000</td>\n",
       "      <td>5.924875</td>\n",
       "      <td>124.422375</td>\n",
       "      <td>118.49750</td>\n",
       "      <td>4.761905e+00</td>\n",
       "      <td>5.924875</td>\n",
       "      <td>5.50000</td>\n",
       "    </tr>\n",
       "    <tr>\n",
       "      <th>50%</th>\n",
       "      <td>55.230000</td>\n",
       "      <td>5.000000</td>\n",
       "      <td>12.088000</td>\n",
       "      <td>253.848000</td>\n",
       "      <td>241.76000</td>\n",
       "      <td>4.761905e+00</td>\n",
       "      <td>12.088000</td>\n",
       "      <td>7.00000</td>\n",
       "    </tr>\n",
       "    <tr>\n",
       "      <th>75%</th>\n",
       "      <td>77.935000</td>\n",
       "      <td>8.000000</td>\n",
       "      <td>22.445250</td>\n",
       "      <td>471.350250</td>\n",
       "      <td>448.90500</td>\n",
       "      <td>4.761905e+00</td>\n",
       "      <td>22.445250</td>\n",
       "      <td>8.50000</td>\n",
       "    </tr>\n",
       "    <tr>\n",
       "      <th>max</th>\n",
       "      <td>99.960000</td>\n",
       "      <td>10.000000</td>\n",
       "      <td>49.650000</td>\n",
       "      <td>1042.650000</td>\n",
       "      <td>993.00000</td>\n",
       "      <td>4.761905e+00</td>\n",
       "      <td>49.650000</td>\n",
       "      <td>10.00000</td>\n",
       "    </tr>\n",
       "  </tbody>\n",
       "</table>\n",
       "</div>"
      ],
      "text/plain": [
       "        Unit price     Quantity       Tax 5%        Total        cogs  \\\n",
       "count  1000.000000  1000.000000  1000.000000  1000.000000  1000.00000   \n",
       "mean     55.672130     5.510000    15.379369   322.966749   307.58738   \n",
       "std      26.494628     2.923431    11.708825   245.885335   234.17651   \n",
       "min      10.080000     1.000000     0.508500    10.678500    10.17000   \n",
       "25%      32.875000     3.000000     5.924875   124.422375   118.49750   \n",
       "50%      55.230000     5.000000    12.088000   253.848000   241.76000   \n",
       "75%      77.935000     8.000000    22.445250   471.350250   448.90500   \n",
       "max      99.960000    10.000000    49.650000  1042.650000   993.00000   \n",
       "\n",
       "       gross margin percentage  gross income      Rating  \n",
       "count             1.000000e+03   1000.000000  1000.00000  \n",
       "mean              4.761905e+00     15.379369     6.97270  \n",
       "std               6.131498e-14     11.708825     1.71858  \n",
       "min               4.761905e+00      0.508500     4.00000  \n",
       "25%               4.761905e+00      5.924875     5.50000  \n",
       "50%               4.761905e+00     12.088000     7.00000  \n",
       "75%               4.761905e+00     22.445250     8.50000  \n",
       "max               4.761905e+00     49.650000    10.00000  "
      ]
     },
     "execution_count": 9,
     "metadata": {},
     "output_type": "execute_result"
    }
   ],
   "source": [
    "sales_data.describe()"
   ]
  },
  {
   "cell_type": "markdown",
   "metadata": {},
   "source": [
    "<h3 style=\"background-color:#4895ef;color:white;text-align: center;padding-top: 5px;padding-bottom: 5px;border-radius: 15px 50px;\"><strong><centre>Exploratory Data Analysis 🔍 </centre></strong></h3>"
   ]
  },
  {
   "cell_type": "code",
   "execution_count": 10,
   "metadata": {},
   "outputs": [
    {
     "data": {
      "text/html": [
       "<div>\n",
       "<style scoped>\n",
       "    .dataframe tbody tr th:only-of-type {\n",
       "        vertical-align: middle;\n",
       "    }\n",
       "\n",
       "    .dataframe tbody tr th {\n",
       "        vertical-align: top;\n",
       "    }\n",
       "\n",
       "    .dataframe thead th {\n",
       "        text-align: right;\n",
       "    }\n",
       "</style>\n",
       "<table border=\"1\" class=\"dataframe\">\n",
       "  <thead>\n",
       "    <tr style=\"text-align: right;\">\n",
       "      <th></th>\n",
       "      <th>Invoice ID</th>\n",
       "      <th>Branch</th>\n",
       "      <th>City</th>\n",
       "      <th>Customer type</th>\n",
       "      <th>Gender</th>\n",
       "      <th>Product line</th>\n",
       "      <th>Unit price</th>\n",
       "      <th>Quantity</th>\n",
       "      <th>Tax 5%</th>\n",
       "      <th>Total</th>\n",
       "      <th>Date</th>\n",
       "      <th>Time</th>\n",
       "      <th>Payment</th>\n",
       "      <th>cogs</th>\n",
       "      <th>gross margin percentage</th>\n",
       "      <th>gross income</th>\n",
       "      <th>Rating</th>\n",
       "    </tr>\n",
       "  </thead>\n",
       "  <tbody>\n",
       "    <tr>\n",
       "      <th>0</th>\n",
       "      <td>750-67-8428</td>\n",
       "      <td>A</td>\n",
       "      <td>Yangon</td>\n",
       "      <td>Member</td>\n",
       "      <td>Female</td>\n",
       "      <td>Health and beauty</td>\n",
       "      <td>74.69</td>\n",
       "      <td>7</td>\n",
       "      <td>26.1415</td>\n",
       "      <td>548.9715</td>\n",
       "      <td>2022-01-05</td>\n",
       "      <td>13:08</td>\n",
       "      <td>Ewallet</td>\n",
       "      <td>522.83</td>\n",
       "      <td>4.761905</td>\n",
       "      <td>26.1415</td>\n",
       "      <td>9.1</td>\n",
       "    </tr>\n",
       "    <tr>\n",
       "      <th>1</th>\n",
       "      <td>226-31-3081</td>\n",
       "      <td>C</td>\n",
       "      <td>Naypyitaw</td>\n",
       "      <td>Normal</td>\n",
       "      <td>Female</td>\n",
       "      <td>Electronic accessories</td>\n",
       "      <td>15.28</td>\n",
       "      <td>5</td>\n",
       "      <td>3.8200</td>\n",
       "      <td>80.2200</td>\n",
       "      <td>2022-03-08</td>\n",
       "      <td>10:29</td>\n",
       "      <td>Cash</td>\n",
       "      <td>76.40</td>\n",
       "      <td>4.761905</td>\n",
       "      <td>3.8200</td>\n",
       "      <td>9.6</td>\n",
       "    </tr>\n",
       "    <tr>\n",
       "      <th>2</th>\n",
       "      <td>631-41-3108</td>\n",
       "      <td>A</td>\n",
       "      <td>Yangon</td>\n",
       "      <td>Normal</td>\n",
       "      <td>Male</td>\n",
       "      <td>Home and lifestyle</td>\n",
       "      <td>46.33</td>\n",
       "      <td>7</td>\n",
       "      <td>16.2155</td>\n",
       "      <td>340.5255</td>\n",
       "      <td>2022-03-03</td>\n",
       "      <td>13:23</td>\n",
       "      <td>Credit card</td>\n",
       "      <td>324.31</td>\n",
       "      <td>4.761905</td>\n",
       "      <td>16.2155</td>\n",
       "      <td>7.4</td>\n",
       "    </tr>\n",
       "    <tr>\n",
       "      <th>3</th>\n",
       "      <td>123-19-1176</td>\n",
       "      <td>A</td>\n",
       "      <td>Yangon</td>\n",
       "      <td>Member</td>\n",
       "      <td>Male</td>\n",
       "      <td>Health and beauty</td>\n",
       "      <td>58.22</td>\n",
       "      <td>8</td>\n",
       "      <td>23.2880</td>\n",
       "      <td>489.0480</td>\n",
       "      <td>2022-01-27</td>\n",
       "      <td>20:33</td>\n",
       "      <td>Ewallet</td>\n",
       "      <td>465.76</td>\n",
       "      <td>4.761905</td>\n",
       "      <td>23.2880</td>\n",
       "      <td>8.4</td>\n",
       "    </tr>\n",
       "    <tr>\n",
       "      <th>4</th>\n",
       "      <td>373-73-7910</td>\n",
       "      <td>A</td>\n",
       "      <td>Yangon</td>\n",
       "      <td>Normal</td>\n",
       "      <td>Male</td>\n",
       "      <td>Sports and travel</td>\n",
       "      <td>86.31</td>\n",
       "      <td>7</td>\n",
       "      <td>30.2085</td>\n",
       "      <td>634.3785</td>\n",
       "      <td>2022-02-08</td>\n",
       "      <td>10:37</td>\n",
       "      <td>Ewallet</td>\n",
       "      <td>604.17</td>\n",
       "      <td>4.761905</td>\n",
       "      <td>30.2085</td>\n",
       "      <td>5.3</td>\n",
       "    </tr>\n",
       "  </tbody>\n",
       "</table>\n",
       "</div>"
      ],
      "text/plain": [
       "    Invoice ID Branch       City Customer type  Gender  \\\n",
       "0  750-67-8428      A     Yangon        Member  Female   \n",
       "1  226-31-3081      C  Naypyitaw        Normal  Female   \n",
       "2  631-41-3108      A     Yangon        Normal    Male   \n",
       "3  123-19-1176      A     Yangon        Member    Male   \n",
       "4  373-73-7910      A     Yangon        Normal    Male   \n",
       "\n",
       "             Product line  Unit price  Quantity   Tax 5%     Total       Date  \\\n",
       "0       Health and beauty       74.69         7  26.1415  548.9715 2022-01-05   \n",
       "1  Electronic accessories       15.28         5   3.8200   80.2200 2022-03-08   \n",
       "2      Home and lifestyle       46.33         7  16.2155  340.5255 2022-03-03   \n",
       "3       Health and beauty       58.22         8  23.2880  489.0480 2022-01-27   \n",
       "4       Sports and travel       86.31         7  30.2085  634.3785 2022-02-08   \n",
       "\n",
       "    Time      Payment    cogs  gross margin percentage  gross income  Rating  \n",
       "0  13:08      Ewallet  522.83                 4.761905       26.1415     9.1  \n",
       "1  10:29         Cash   76.40                 4.761905        3.8200     9.6  \n",
       "2  13:23  Credit card  324.31                 4.761905       16.2155     7.4  \n",
       "3  20:33      Ewallet  465.76                 4.761905       23.2880     8.4  \n",
       "4  10:37      Ewallet  604.17                 4.761905       30.2085     5.3  "
      ]
     },
     "execution_count": 10,
     "metadata": {},
     "output_type": "execute_result"
    }
   ],
   "source": [
    "sales_data.head()"
   ]
  },
  {
   "cell_type": "code",
   "execution_count": 11,
   "metadata": {},
   "outputs": [
    {
     "data": {
      "text/plain": [
       "<seaborn.axisgrid.FacetGrid at 0x20cc36b3e20>"
      ]
     },
     "execution_count": 11,
     "metadata": {},
     "output_type": "execute_result"
    },
    {
     "data": {
      "image/png": "[encoded data removed]",
      "text/plain": [
       "<Figure size 1224.12x576 with 1 Axes>"
      ]
     },
     "metadata": {
      "needs_background": "light"
     },
     "output_type": "display_data"
    }
   ],
   "source": [
    "#checking the count of the gender for each product line\n",
    "sns.catplot(x='Product line', hue='Gender',kind ='count', data=sales_data, aspect=2, height=8)"
   ]
  },
  {
   "cell_type": "code",
   "execution_count": 12,
   "metadata": {},
   "outputs": [
    {
     "data": {
      "text/plain": [
       "<seaborn.axisgrid.FacetGrid at 0x20cc3737b80>"
      ]
     },
     "execution_count": 12,
     "metadata": {},
     "output_type": "execute_result"
    },
    {
     "data": {
      "image/png": "[encoded data removed]",
      "text/plain": [
       "<Figure size 1195.38x576 with 1 Axes>"
      ]
     },
     "metadata": {
      "needs_background": "light"
     },
     "output_type": "display_data"
    }
   ],
   "source": [
    "#count of branch for each product line\n",
    "sns.catplot(x='Product line', hue='Branch',kind ='count', data=sales_data, aspect=2, height=8)"
   ]
  },
  {
   "cell_type": "code",
   "execution_count": 13,
   "metadata": {},
   "outputs": [
    {
     "data": {
      "text/plain": [
       "<seaborn.axisgrid.FacetGrid at 0x20cc3845eb0>"
      ]
     },
     "execution_count": 13,
     "metadata": {},
     "output_type": "execute_result"
    },
    {
     "data": {
      "image/png": "[encoded data removed]",
      "text/plain": [
       "<Figure size 1240.62x576 with 1 Axes>"
      ]
     },
     "metadata": {
      "needs_background": "light"
     },
     "output_type": "display_data"
    }
   ],
   "source": [
    "#count of city for each product line\n",
    "sns.catplot(x='Product line', hue='City',kind ='count', data=sales_data, aspect=2, height=8,palette=\"Blues_r\")"
   ]
  },
  {
   "cell_type": "code",
   "execution_count": 14,
   "metadata": {},
   "outputs": [
    {
     "data": {
      "text/plain": [
       "<AxesSubplot:xlabel='Quantity', ylabel='City'>"
      ]
     },
     "execution_count": 14,
     "metadata": {},
     "output_type": "execute_result"
    },
    {
     "data": {
      "image/png": "[encoded data removed]",
      "text/plain": [
       "<Figure size 432x288 with 1 Axes>"
      ]
     },
     "metadata": {
      "needs_background": "light"
     },
     "output_type": "display_data"
    }
   ],
   "source": [
    "#barplot showing quantity in each city\n",
    "sns.barplot(x=\"Quantity\",y=\"City\",data=sales_data)"
   ]
  },
  {
   "cell_type": "code",
   "execution_count": 15,
   "metadata": {},
   "outputs": [
    {
     "data": {
      "text/plain": [
       "<AxesSubplot:xlabel='Branch', ylabel='Quantity'>"
      ]
     },
     "execution_count": 15,
     "metadata": {},
     "output_type": "execute_result"
    },
    {
     "data": {
      "image/png": "[encoded data removed]",
      "text/plain": [
       "<Figure size 432x288 with 1 Axes>"
      ]
     },
     "metadata": {
      "needs_background": "light"
     },
     "output_type": "display_data"
    }
   ],
   "source": [
    "#barplot showing quantity in each Branch\n",
    "sns.barplot(x=\"Branch\",y=\"Quantity\",data=sales_data,palette=\"viridis_r\")"
   ]
  },
  {
   "cell_type": "code",
   "execution_count": 16,
   "metadata": {},
   "outputs": [
    {
     "data": {
      "text/plain": [
       "<AxesSubplot:xlabel='Gender', ylabel='Quantity'>"
      ]
     },
     "execution_count": 16,
     "metadata": {},
     "output_type": "execute_result"
    },
    {
     "data": {
      "image/png": "[encoded data removed]",
      "text/plain": [
       "<Figure size 432x288 with 1 Axes>"
      ]
     },
     "metadata": {
      "needs_background": "light"
     },
     "output_type": "display_data"
    }
   ],
   "source": [
    "#barplot showing quantity relating to Gender\n",
    "sns.barplot(x=\"Gender\",y=\"Quantity\",data=sales_data,palette=\"rocket\")"
   ]
  },
  {
   "cell_type": "code",
   "execution_count": 17,
   "metadata": {},
   "outputs": [
    {
     "data": {
      "text/plain": [
       "<AxesSubplot:xlabel='Payment', ylabel='count'>"
      ]
     },
     "execution_count": 17,
     "metadata": {},
     "output_type": "execute_result"
    },
    {
     "data": {
      "image/png": "[encoded data removed]",
      "text/plain": [
       "<Figure size 432x288 with 1 Axes>"
      ]
     },
     "metadata": {
      "needs_background": "light"
     },
     "output_type": "display_data"
    }
   ],
   "source": [
    "# which payment channel is used most\n",
    "sns.countplot(x=\"Payment\", data=sales_data)"
   ]
  },
  {
   "cell_type": "markdown",
   "metadata": {},
   "source": [
    " ### The most used payment channel is Ewallet, followed by Cash payment "
   ]
  },
  {
   "cell_type": "code",
   "execution_count": 18,
   "metadata": {},
   "outputs": [
    {
     "data": {
      "text/plain": [
       "<AxesSubplot:>"
      ]
     },
     "execution_count": 18,
     "metadata": {},
     "output_type": "execute_result"
    },
    {
     "data": {
      "image/png": "[encoded data removed]",
      "text/plain": [
       "<Figure size 432x288 with 2 Axes>"
      ]
     },
     "metadata": {
      "needs_background": "light"
     },
     "output_type": "display_data"
    }
   ],
   "source": [
    "#check for correlation in the dataset\n",
    "sns.heatmap(np.round(sales_data.corr(),2),annot = True)"
   ]
  },
  {
   "cell_type": "markdown",
   "metadata": {},
   "source": [
    "### From the heatmap there is a positive correlation between \"Unit price\" and \"cogs\" at 63%, there is also a high correlation between \"Quantity\" and \"gross income\" at 71%"
   ]
  },
  {
   "cell_type": "code",
   "execution_count": 19,
   "metadata": {},
   "outputs": [
    {
     "data": {
      "text/plain": [
       "89"
      ]
     },
     "execution_count": 19,
     "metadata": {},
     "output_type": "execute_result"
    }
   ],
   "source": [
    "sales_data['Date'].nunique()"
   ]
  },
  {
   "cell_type": "code",
   "execution_count": 20,
   "metadata": {},
   "outputs": [
    {
     "data": {
      "text/plain": [
       "2022-02-07    20\n",
       "2022-02-15    19\n",
       "2022-03-14    18\n",
       "2022-01-08    18\n",
       "2022-03-02    18\n",
       "              ..\n",
       "2022-01-04     6\n",
       "2022-02-21     6\n",
       "2022-03-21     6\n",
       "2022-03-17     6\n",
       "2022-02-28     6\n",
       "Name: Date, Length: 89, dtype: int64"
      ]
     },
     "execution_count": 20,
     "metadata": {},
     "output_type": "execute_result"
    }
   ],
   "source": [
    "sales_data['Date'].value_counts()"
   ]
  },
  {
   "cell_type": "code",
   "execution_count": 21,
   "metadata": {},
   "outputs": [],
   "source": [
    "from datetime import date"
   ]
  },
  {
   "cell_type": "code",
   "execution_count": 22,
   "metadata": {},
   "outputs": [
    {
     "data": {
      "text/plain": [
       "12"
      ]
     },
     "execution_count": 22,
     "metadata": {},
     "output_type": "execute_result"
    }
   ],
   "source": [
    "len(sales_data[sales_data['Date'] == pd.Timestamp('2022-01-01 00:00:00')])"
   ]
  },
  {
   "cell_type": "code",
   "execution_count": 23,
   "metadata": {},
   "outputs": [
    {
     "data": {
      "text/plain": [
       "Timestamp('2022-01-05 00:00:00')"
      ]
     },
     "execution_count": 23,
     "metadata": {},
     "output_type": "execute_result"
    }
   ],
   "source": [
    "sales_data.Date[0]"
   ]
  },
  {
   "cell_type": "code",
   "execution_count": 24,
   "metadata": {},
   "outputs": [
    {
     "data": {
      "text/plain": [
       "array([12, 11, 14, 14, 12,  9, 16,  9,  9, 10, 13, 16,  8, 20,  8, 13, 11,\n",
       "       12,  8, 17, 12, 13, 18, 10, 12, 17, 14,  9, 11, 11, 14, 12,  9, 14,\n",
       "       11, 16, 14,  9,  6, 10, 10, 12, 19, 11,  8, 10, 13,  9,  8,  7, 10,\n",
       "        8, 11, 17, 17,  8,  8, 13, 13, 10,  6, 10, 11, 12, 16, 10, 18,  7,\n",
       "        9,  8, 11, 12,  6, 11,  9,  8,  6,  8, 13,  7, 15,  6, 14,  8,  9,\n",
       "        6, 18, 11,  9])"
      ]
     },
     "execution_count": 24,
     "metadata": {},
     "output_type": "execute_result"
    }
   ],
   "source": [
    "total_sales= []\n",
    "for i in sales_data.Date.unique():\n",
    "    n= len(sales_data[sales_data['Date'] == i])\n",
    "    total_sales.append(n)\n",
    "np.array(total_sales)"
   ]
  },
  {
   "cell_type": "code",
   "execution_count": 25,
   "metadata": {},
   "outputs": [
    {
     "data": {
      "text/plain": [
       "5"
      ]
     },
     "execution_count": 25,
     "metadata": {},
     "output_type": "execute_result"
    }
   ],
   "source": [
    "len(sales_data[(sales_data['Date'] == pd.Timestamp('2022-01-01 00:00:00'))&(sales_data.Branch == 'A')])"
   ]
  },
  {
   "cell_type": "code",
   "execution_count": 26,
   "metadata": {},
   "outputs": [
    {
     "data": {
      "text/plain": [
       "array([0.41666667, 0.36363636, 0.35714286, 0.42857143, 0.25      ,\n",
       "       0.44444444, 0.375     , 0.22222222, 0.33333333, 0.3       ,\n",
       "       0.15384615, 0.375     , 0.375     , 0.25      , 0.25      ,\n",
       "       0.38461538, 0.45454545, 0.41666667, 0.625     , 0.11764706,\n",
       "       0.25      , 0.53846154, 0.16666667, 0.7       , 0.5       ,\n",
       "       0.29411765, 0.14285714, 0.33333333, 0.54545455, 0.36363636,\n",
       "       0.28571429, 0.75      , 0.33333333, 0.35714286, 0.36363636,\n",
       "       0.375     , 0.35714286, 0.33333333, 0.33333333, 0.5       ,\n",
       "       0.4       , 0.16666667, 0.26315789, 0.36363636, 0.375     ,\n",
       "       0.3       , 0.38461538, 0.55555556, 0.25      , 0.28571429,\n",
       "       0.4       , 0.125     , 0.27272727, 0.17647059, 0.41176471,\n",
       "       0.125     , 0.25      , 0.23076923, 0.46153846, 0.3       ,\n",
       "       0.5       , 0.6       , 0.18181818, 0.41666667, 0.5       ,\n",
       "       0.2       , 0.22222222, 0.42857143, 0.44444444, 0.125     ,\n",
       "       0.27272727, 0.41666667, 0.33333333, 0.36363636, 0.11111111,\n",
       "       0.375     , 0.66666667, 0.25      , 0.15384615, 0.28571429,\n",
       "       0.4       , 0.16666667, 0.21428571, 0.75      , 0.22222222,\n",
       "       0.33333333, 0.22222222, 0.45454545, 0.44444444])"
      ]
     },
     "execution_count": 26,
     "metadata": {},
     "output_type": "execute_result"
    }
   ],
   "source": [
    "#probability for A\n",
    "prob_A = []\n",
    "for i in sales_data.Date.unique():\n",
    "    x = len(sales_data[(sales_data['Date'] == i)&(sales_data.Branch == 'A')])/len(sales_data[sales_data['Date'] == i])\n",
    "    prob_A.append(x)\n",
    "np.array(prob_A)"
   ]
  },
  {
   "cell_type": "markdown",
   "metadata": {},
   "source": [
    "### <h3 style=\"background-color:#4895ef;color:white;text-align: center;padding-top: 5px;padding-bottom: 5px;border-radius: 15px 50px;\"><strong><centre>Element-wise binomial simulation for elements in n {𝑁, 𝑃(𝐴)}:{𝐵(𝑛, 𝑝) for (𝑛, 𝑝) ∈ {𝑁 × 𝑃(𝐴)}} </centre></strong></h3>"
   ]
  },
  {
   "cell_type": "code",
   "execution_count": 27,
   "metadata": {},
   "outputs": [
    {
     "data": {
      "text/plain": [
       "array([ 6,  4,  4,  4,  1,  3,  7,  1,  4,  4,  2,  5,  6,  5,  1,  5,  5,\n",
       "        7,  7,  0,  2,  8,  1,  6,  5,  6,  1,  4,  7,  4,  4, 10,  4,  7,\n",
       "        2,  7,  7,  1,  3,  5,  1,  4,  4,  4,  3,  1,  5,  4,  3,  2,  3,\n",
       "        2,  2,  3,  7,  2,  1,  4,  3,  2,  3,  7,  4,  3,  7,  4,  3,  4,\n",
       "        5,  1,  2,  5,  3,  1,  1,  3,  5,  1,  0,  1,  6,  0,  2,  6,  3,\n",
       "        3,  2,  2,  7])"
      ]
     },
     "execution_count": 27,
     "metadata": {},
     "output_type": "execute_result"
    }
   ],
   "source": [
    "import numpy.random as rnd\n",
    "\n",
    "binomial_A = []\n",
    "for n,p in zip(total_sales,prob_A):\n",
    "    binomial_A.append(rnd.binomial(n,p))\n",
    "    \n",
    "np.array(binomial_A)"
   ]
  },
  {
   "cell_type": "code",
   "execution_count": 28,
   "metadata": {},
   "outputs": [
    {
     "data": {
      "text/plain": [
       "array([4, 3, 4, 5, 3, 3, 6, 2, 2, 2, 1, 5, 2, 5, 1, 4, 5, 4, 4, 2, 3, 6,\n",
       "       2, 7, 5, 4, 1, 2, 5, 3, 3, 9, 3, 5, 3, 5, 4, 3, 2, 5, 3, 2, 4, 3,\n",
       "       2, 2, 4, 5, 2, 1, 4, 1, 3, 2, 7, 1, 2, 2, 5, 3, 3, 6, 2, 4, 7, 1,\n",
       "       3, 3, 3, 1, 2, 5, 2, 3, 1, 3, 3, 1, 1, 2, 5, 0, 3, 6, 1, 2, 3, 4,\n",
       "       3])"
      ]
     },
     "execution_count": 28,
     "metadata": {},
     "output_type": "execute_result"
    }
   ],
   "source": [
    "# to stabilise the result\n",
    "binom_A = [(rnd.binomial(n,p,1000).mean()).astype(int) for n,p in zip(total_sales,prob_A)]\n",
    "np.array(binom_A)\n"
   ]
  },
  {
   "cell_type": "code",
   "execution_count": 29,
   "metadata": {},
   "outputs": [
    {
     "data": {
      "text/plain": [
       "array([5, 3, 4, 5, 3, 4, 6, 2, 3, 3, 1, 6, 2, 5, 1, 5, 4, 5, 5, 1, 3, 7,\n",
       "       3, 6, 5, 4, 2, 3, 5, 3, 4, 8, 2, 5, 3, 5, 5, 3, 1, 4, 4, 2, 4, 4,\n",
       "       2, 2, 4, 4, 1, 1, 3, 0, 3, 2, 7, 0, 2, 3, 6, 2, 3, 6, 2, 4, 7, 2,\n",
       "       3, 3, 4, 1, 3, 5, 2, 3, 1, 2, 4, 2, 1, 1, 5, 0, 3, 5, 1, 2, 4, 4,\n",
       "       4])"
      ]
     },
     "execution_count": 29,
     "metadata": {},
     "output_type": "execute_result"
    }
   ],
   "source": [
    "binom_A = [(sum(rnd.binomial(n,p,1000))/1000).astype(int) for n,p in zip(total_sales,prob_A)]\n",
    "np.array(binom_A)"
   ]
  },
  {
   "cell_type": "code",
   "execution_count": 30,
   "metadata": {},
   "outputs": [
    {
     "data": {
      "text/plain": [
       "array([0.25      , 0.09090909, 0.21428571, 0.14285714, 0.5       ,\n",
       "       0.22222222, 0.5       , 0.33333333, 0.33333333, 0.6       ,\n",
       "       0.38461538, 0.375     , 0.375     , 0.3       , 0.5       ,\n",
       "       0.38461538, 0.27272727, 0.25      , 0.125     , 0.58823529,\n",
       "       0.66666667, 0.15384615, 0.5       , 0.3       , 0.25      ,\n",
       "       0.41176471, 0.42857143, 0.33333333, 0.09090909, 0.36363636,\n",
       "       0.28571429, 0.08333333, 0.33333333, 0.42857143, 0.36363636,\n",
       "       0.1875    , 0.35714286, 0.22222222, 0.33333333, 0.4       ,\n",
       "       0.2       , 0.41666667, 0.36842105, 0.54545455, 0.25      ,\n",
       "       0.3       , 0.46153846, 0.22222222, 0.375     , 0.28571429,\n",
       "       0.3       , 0.25      , 0.54545455, 0.58823529, 0.        ,\n",
       "       0.5       , 0.5       , 0.30769231, 0.23076923, 0.5       ,\n",
       "       0.        , 0.1       , 0.36363636, 0.25      , 0.1875    ,\n",
       "       0.3       , 0.33333333, 0.14285714, 0.22222222, 0.5       ,\n",
       "       0.45454545, 0.25      , 0.5       , 0.27272727, 0.22222222,\n",
       "       0.375     , 0.16666667, 0.375     , 0.38461538, 0.28571429,\n",
       "       0.4       , 0.33333333, 0.5       , 0.        , 0.66666667,\n",
       "       0.33333333, 0.27777778, 0.36363636, 0.11111111])"
      ]
     },
     "execution_count": 30,
     "metadata": {},
     "output_type": "execute_result"
    }
   ],
   "source": [
    "#probability for B\n",
    "\n",
    "prob_B = []\n",
    "for i in sales_data.Date.unique():\n",
    "    x = len(sales_data[(sales_data['Date'] == i)&(sales_data.Branch == 'B')])/len(sales_data[sales_data['Date'] == i])\n",
    "    prob_B.append(x)\n",
    "np.array(prob_B)"
   ]
  },
  {
   "cell_type": "code",
   "execution_count": 31,
   "metadata": {},
   "outputs": [
    {
     "data": {
      "text/plain": [
       "array([ 4,  2,  3,  2,  5,  3,  9,  4,  0,  4,  3,  6,  4,  5,  3,  5,  2,\n",
       "        2,  0, 10,  8,  0,  5,  4,  3,  4,  8,  3,  1,  5,  3,  1,  1,  5,\n",
       "        8,  5,  4,  1,  2,  4,  2,  6, 10,  5,  0,  2,  7,  2,  2,  1,  1,\n",
       "        3,  6, 10,  0,  4,  5,  4,  5,  7,  0,  0,  4,  4,  4,  3,  6,  1,\n",
       "        3,  2,  6,  2,  2,  5,  0,  0,  1,  6,  3,  2,  8,  2,  7,  0,  7,\n",
       "        2,  3,  2,  1])"
      ]
     },
     "execution_count": 31,
     "metadata": {},
     "output_type": "execute_result"
    }
   ],
   "source": [
    "#simulation for Branch B\n",
    "\n",
    "binomial_B = []\n",
    "for n,p in zip(total_sales,prob_B):\n",
    "    binomial_B.append(rnd.binomial(n,p))\n",
    "    \n",
    "np.array(binomial_B)"
   ]
  },
  {
   "cell_type": "code",
   "execution_count": 32,
   "metadata": {},
   "outputs": [
    {
     "data": {
      "text/plain": [
       "array([ 3,  1,  2,  2,  5,  2,  8,  2,  2,  6,  4,  6,  2,  5,  4,  4,  3,\n",
       "        2,  0, 10,  7,  2,  9,  3,  2,  7,  5,  2,  0,  4,  3,  1,  3,  6,\n",
       "        3,  3,  5,  1,  2,  3,  1,  4,  6,  5,  2,  2,  6,  1,  3,  2,  2,\n",
       "        1,  5, 10,  0,  3,  4,  3,  3,  5,  0,  0,  3,  3,  2,  2,  6,  0,\n",
       "        2,  3,  5,  2,  3,  3,  2,  2,  0,  2,  5,  2,  6,  1,  7,  0,  6,\n",
       "        2,  4,  4,  1])"
      ]
     },
     "execution_count": 32,
     "metadata": {},
     "output_type": "execute_result"
    }
   ],
   "source": [
    "# simulation for branch B with expectation\n",
    "\n",
    "binom_B = [(rnd.binomial(n,p,1000).mean()).astype(int) for n,p in zip(total_sales,prob_B)]\n",
    "np.array(binom_B)"
   ]
  },
  {
   "cell_type": "code",
   "execution_count": 33,
   "metadata": {},
   "outputs": [
    {
     "data": {
      "text/plain": [
       "array([0.33333333, 0.54545455, 0.42857143, 0.42857143, 0.25      ,\n",
       "       0.33333333, 0.125     , 0.44444444, 0.33333333, 0.1       ,\n",
       "       0.46153846, 0.25      , 0.25      , 0.45      , 0.25      ,\n",
       "       0.23076923, 0.27272727, 0.33333333, 0.25      , 0.29411765,\n",
       "       0.08333333, 0.30769231, 0.33333333, 0.        , 0.25      ,\n",
       "       0.29411765, 0.42857143, 0.33333333, 0.36363636, 0.27272727,\n",
       "       0.42857143, 0.16666667, 0.33333333, 0.21428571, 0.27272727,\n",
       "       0.4375    , 0.28571429, 0.44444444, 0.33333333, 0.1       ,\n",
       "       0.4       , 0.41666667, 0.36842105, 0.09090909, 0.375     ,\n",
       "       0.4       , 0.15384615, 0.22222222, 0.375     , 0.42857143,\n",
       "       0.3       , 0.625     , 0.18181818, 0.23529412, 0.58823529,\n",
       "       0.375     , 0.25      , 0.46153846, 0.30769231, 0.2       ,\n",
       "       0.5       , 0.3       , 0.45454545, 0.33333333, 0.3125    ,\n",
       "       0.5       , 0.44444444, 0.42857143, 0.33333333, 0.375     ,\n",
       "       0.27272727, 0.33333333, 0.16666667, 0.36363636, 0.66666667,\n",
       "       0.25      , 0.16666667, 0.375     , 0.46153846, 0.42857143,\n",
       "       0.2       , 0.5       , 0.28571429, 0.25      , 0.11111111,\n",
       "       0.33333333, 0.5       , 0.18181818, 0.44444444])"
      ]
     },
     "execution_count": 33,
     "metadata": {},
     "output_type": "execute_result"
    }
   ],
   "source": [
    "# probability for branch C\n",
    "\n",
    "prob_C = []\n",
    "for i in sales_data.Date.unique():\n",
    "    x = len(sales_data[(sales_data['Date'] == i)&(sales_data.Branch == 'C')])/len(sales_data[sales_data['Date'] == i])\n",
    "    prob_C.append(x)\n",
    "np.array(prob_C)"
   ]
  },
  {
   "cell_type": "code",
   "execution_count": 34,
   "metadata": {},
   "outputs": [
    {
     "data": {
      "text/plain": [
       "array([ 3,  8,  5,  6,  5,  2,  3,  3,  2,  4,  2,  3,  3,  6,  0,  3,  2,\n",
       "        2,  1,  3,  1,  5,  7,  0,  2,  3,  4,  2,  7,  4,  6,  1,  3,  2,\n",
       "        3, 12,  5,  3,  4,  1,  4,  3,  7,  3,  3,  2,  2,  2,  3,  4,  5,\n",
       "        3,  1,  6,  7,  6,  1,  8,  3,  5,  3,  1,  5,  2,  4,  3,  9,  2,\n",
       "        3,  3,  4,  5,  0,  3,  4,  3,  3,  0,  5,  4,  2,  2,  4,  1,  0,\n",
       "        3,  7,  4,  2])"
      ]
     },
     "execution_count": 34,
     "metadata": {},
     "output_type": "execute_result"
    }
   ],
   "source": [
    "#simulation for Branch C\n",
    "\n",
    "binomial_C = []\n",
    "for n,p in zip(total_sales,prob_C):\n",
    "    binomial_C.append(rnd.binomial(n,p))\n",
    "    \n",
    "np.array(binomial_C)"
   ]
  },
  {
   "cell_type": "code",
   "execution_count": 35,
   "metadata": {},
   "outputs": [
    {
     "data": {
      "text/plain": [
       "array([ 3,  6,  5,  5,  3,  2,  1,  3,  3,  1,  6,  3,  2,  8,  1,  2,  3,\n",
       "        4,  1,  5,  1,  4,  5,  0,  2,  5,  6,  3,  4,  3,  5,  1,  3,  2,\n",
       "        2,  6,  4,  4,  2,  0,  3,  5,  7,  1,  3,  4,  1,  2,  3,  3,  3,\n",
       "        5,  2,  4, 10,  2,  1,  6,  3,  1,  2,  3,  5,  3,  5,  4,  8,  2,\n",
       "        3,  3,  3,  4,  0,  3,  5,  2,  0,  2,  6,  3,  3,  3,  4,  2,  1,\n",
       "        1,  9,  2,  3])"
      ]
     },
     "execution_count": 35,
     "metadata": {},
     "output_type": "execute_result"
    }
   ],
   "source": [
    "# simulation for branch C with expectation\n",
    "\n",
    "binom_C = [(rnd.binomial(n,p,1000).mean()).astype(int) for n,p in zip(total_sales,prob_C)]\n",
    "np.array(binom_C)"
   ]
  },
  {
   "cell_type": "markdown",
   "metadata": {},
   "source": [
    "### Algorithm 1.2"
   ]
  },
  {
   "cell_type": "code",
   "execution_count": 36,
   "metadata": {},
   "outputs": [
    {
     "data": {
      "text/plain": [
       "1000"
      ]
     },
     "execution_count": 36,
     "metadata": {},
     "output_type": "execute_result"
    }
   ],
   "source": [
    "#Total number of times sales was made in the entire history\n",
    "n_e = len(sales_data['Date'])\n",
    "n_e"
   ]
  },
  {
   "cell_type": "code",
   "execution_count": 37,
   "metadata": {},
   "outputs": [
    {
     "data": {
      "text/plain": [
       "340"
      ]
     },
     "execution_count": 37,
     "metadata": {},
     "output_type": "execute_result"
    }
   ],
   "source": [
    "# total number of times sales were recorded in branch A\n",
    "n_a = len(sales_data[(sales_data['Branch'] == \"A\")])\n",
    "n_a"
   ]
  },
  {
   "cell_type": "code",
   "execution_count": 38,
   "metadata": {},
   "outputs": [
    {
     "data": {
      "text/plain": [
       "0.34"
      ]
     },
     "execution_count": 38,
     "metadata": {},
     "output_type": "execute_result"
    }
   ],
   "source": [
    "#probability of success in branch A\n",
    "p_A = n_a/n_e\n",
    "p_A"
   ]
  },
  {
   "cell_type": "code",
   "execution_count": 39,
   "metadata": {},
   "outputs": [
    {
     "data": {
      "text/plain": [
       "array([ 7,  5,  7,  8,  3,  6,  6,  0,  2,  4,  3,  6,  3,  4,  0,  2,  4,\n",
       "        6,  3,  1,  3,  9,  2,  7,  5,  2, -1,  0,  5,  5,  7,  8,  2,  3,\n",
       "        3,  4,  7,  2,  1,  5,  4,  4,  5,  4,  0, -1,  3,  4,  3,  1,  5,\n",
       "        0,  4,  0,  8,  0,  2,  3,  7,  5,  2,  4,  2,  5,  9,  3,  5,  3,\n",
       "        3, -1,  1,  4,  2,  5,  3, -1,  2,  1,  2,  3,  3,  1,  1,  4,  4,\n",
       "        0,  5,  3,  3])"
      ]
     },
     "execution_count": 39,
     "metadata": {},
     "output_type": "execute_result"
    }
   ],
   "source": [
    "# possible daily outcomes for branch A in Q2\n",
    "binom2_A = [(sum(rnd.binomial(1000,0.34,340)/340).astype(int) + rnd.binomial(n,p)-n_a) for n,p in zip(total_sales,prob_A)]\n",
    "np.array(binom2_A)"
   ]
  },
  {
   "cell_type": "code",
   "execution_count": 40,
   "metadata": {},
   "outputs": [
    {
     "data": {
      "text/plain": [
       "332"
      ]
     },
     "execution_count": 40,
     "metadata": {},
     "output_type": "execute_result"
    }
   ],
   "source": [
    "#total number of times sales were recorded in branch B\n",
    "n_b = len(sales_data[(sales_data.Branch == \"B\")])\n",
    "n_b"
   ]
  },
  {
   "cell_type": "code",
   "execution_count": 41,
   "metadata": {},
   "outputs": [
    {
     "data": {
      "text/plain": [
       "0.332"
      ]
     },
     "execution_count": 41,
     "metadata": {},
     "output_type": "execute_result"
    }
   ],
   "source": [
    "#probability of success in branch B\n",
    "p_B = n_b/n_e\n",
    "p_B"
   ]
  },
  {
   "cell_type": "code",
   "execution_count": 42,
   "metadata": {},
   "outputs": [
    {
     "data": {
      "text/plain": [
       "array([ 5,  1,  3,  1,  7,  3,  9,  3,  7,  9,  7,  6,  1,  5,  5,  3,  3,\n",
       "        1,  1,  9,  4, -1,  9,  3,  4,  9,  5,  0,  1,  4,  2, -1,  3,  7,\n",
       "        5,  1,  7, -1,  1,  1,  2,  5,  4,  5, -1,  1,  8,  2,  3,  2,  3,\n",
       "        1,  6,  7,  0,  4,  3,  2,  0,  5,  0,  3,  4,  2,  4,  3,  9,  1,\n",
       "        3,  2,  1,  0,  2,  4,  3,  0,  0, -1,  7,  4,  7,  3,  7,  0,  5,\n",
       "        1,  2,  5, -1])"
      ]
     },
     "execution_count": 42,
     "metadata": {},
     "output_type": "execute_result"
    }
   ],
   "source": [
    "#possible daily outcomes for branch B in Q2\n",
    "binom2_B = [(sum(rnd.binomial(1000,0.332,332)/332).astype(int) + rnd.binomial(n,p)-n_b) for n,p in zip(total_sales,prob_B)]\n",
    "np.array(binom2_B)"
   ]
  },
  {
   "cell_type": "code",
   "execution_count": 43,
   "metadata": {},
   "outputs": [
    {
     "data": {
      "text/plain": [
       "328"
      ]
     },
     "execution_count": 43,
     "metadata": {},
     "output_type": "execute_result"
    }
   ],
   "source": [
    "#total number of times sales were recorded in branch C\n",
    "n_c = len(sales_data[(sales_data.Branch == \"C\")])\n",
    "n_c"
   ]
  },
  {
   "cell_type": "code",
   "execution_count": 44,
   "metadata": {},
   "outputs": [
    {
     "data": {
      "text/plain": [
       "0.328"
      ]
     },
     "execution_count": 44,
     "metadata": {},
     "output_type": "execute_result"
    }
   ],
   "source": [
    "#probability of success in branch C\n",
    "p_C = n_c/n_e\n",
    "p_C"
   ]
  },
  {
   "cell_type": "code",
   "execution_count": 45,
   "metadata": {},
   "outputs": [
    {
     "data": {
      "text/plain": [
       "array([ 0,  0,  8,  5,  0,  4,  2,  5,  2,  1,  4,  0,  1,  8,  4,  3,  3,\n",
       "        3,  1,  3,  0,  3,  4, -1,  1,  3,  5,  3,  6,  4,  6,  3,  3, -1,\n",
       "        7,  8,  1,  1,  2, -3,  1,  4,  8,  1,  6,  3,  0,  0, -1,  4,  0,\n",
       "        5,  2,  7,  6,  0,  3,  5,  4,  0,  1,  2,  5,  4,  6,  3,  4,  1,\n",
       "        0,  5,  1,  3,  1,  3,  5,  3,  3,  4,  4,  4,  2,  4,  3,  0, -1,\n",
       "        1,  6,  2,  5])"
      ]
     },
     "execution_count": 45,
     "metadata": {},
     "output_type": "execute_result"
    }
   ],
   "source": [
    "#possible daily outcomes for branch C in Q2\n",
    "binom2_C = [(sum(rnd.binomial(1000,0.328,328)/328).astype(int) + rnd.binomial(n,p)-n_c) for n,p in zip(total_sales,prob_C)]\n",
    "np.array(binom2_C)"
   ]
  },
  {
   "cell_type": "code",
   "execution_count": 46,
   "metadata": {},
   "outputs": [
    {
     "data": {
      "text/html": [
       "<div>\n",
       "<style scoped>\n",
       "    .dataframe tbody tr th:only-of-type {\n",
       "        vertical-align: middle;\n",
       "    }\n",
       "\n",
       "    .dataframe tbody tr th {\n",
       "        vertical-align: top;\n",
       "    }\n",
       "\n",
       "    .dataframe thead th {\n",
       "        text-align: right;\n",
       "    }\n",
       "</style>\n",
       "<table border=\"1\" class=\"dataframe\">\n",
       "  <thead>\n",
       "    <tr style=\"text-align: right;\">\n",
       "      <th></th>\n",
       "      <th>Date</th>\n",
       "      <th>Branch A</th>\n",
       "      <th>Branch B</th>\n",
       "      <th>Branch C</th>\n",
       "    </tr>\n",
       "  </thead>\n",
       "  <tbody>\n",
       "    <tr>\n",
       "      <th>0</th>\n",
       "      <td>2022-04-01</td>\n",
       "      <td>7</td>\n",
       "      <td>5</td>\n",
       "      <td>0</td>\n",
       "    </tr>\n",
       "    <tr>\n",
       "      <th>1</th>\n",
       "      <td>2022-04-02</td>\n",
       "      <td>5</td>\n",
       "      <td>1</td>\n",
       "      <td>0</td>\n",
       "    </tr>\n",
       "    <tr>\n",
       "      <th>2</th>\n",
       "      <td>2022-04-03</td>\n",
       "      <td>7</td>\n",
       "      <td>3</td>\n",
       "      <td>8</td>\n",
       "    </tr>\n",
       "    <tr>\n",
       "      <th>3</th>\n",
       "      <td>2022-04-04</td>\n",
       "      <td>8</td>\n",
       "      <td>1</td>\n",
       "      <td>5</td>\n",
       "    </tr>\n",
       "    <tr>\n",
       "      <th>4</th>\n",
       "      <td>2022-04-05</td>\n",
       "      <td>3</td>\n",
       "      <td>7</td>\n",
       "      <td>0</td>\n",
       "    </tr>\n",
       "    <tr>\n",
       "      <th>...</th>\n",
       "      <td>...</td>\n",
       "      <td>...</td>\n",
       "      <td>...</td>\n",
       "      <td>...</td>\n",
       "    </tr>\n",
       "    <tr>\n",
       "      <th>84</th>\n",
       "      <td>2022-06-24</td>\n",
       "      <td>4</td>\n",
       "      <td>5</td>\n",
       "      <td>-1</td>\n",
       "    </tr>\n",
       "    <tr>\n",
       "      <th>85</th>\n",
       "      <td>2022-06-25</td>\n",
       "      <td>0</td>\n",
       "      <td>1</td>\n",
       "      <td>1</td>\n",
       "    </tr>\n",
       "    <tr>\n",
       "      <th>86</th>\n",
       "      <td>2022-06-26</td>\n",
       "      <td>5</td>\n",
       "      <td>2</td>\n",
       "      <td>6</td>\n",
       "    </tr>\n",
       "    <tr>\n",
       "      <th>87</th>\n",
       "      <td>2022-06-27</td>\n",
       "      <td>3</td>\n",
       "      <td>5</td>\n",
       "      <td>2</td>\n",
       "    </tr>\n",
       "    <tr>\n",
       "      <th>88</th>\n",
       "      <td>2022-06-28</td>\n",
       "      <td>3</td>\n",
       "      <td>-1</td>\n",
       "      <td>5</td>\n",
       "    </tr>\n",
       "  </tbody>\n",
       "</table>\n",
       "<p>89 rows × 4 columns</p>\n",
       "</div>"
      ],
      "text/plain": [
       "         Date  Branch A  Branch B  Branch C\n",
       "0  2022-04-01         7         5         0\n",
       "1  2022-04-02         5         1         0\n",
       "2  2022-04-03         7         3         8\n",
       "3  2022-04-04         8         1         5\n",
       "4  2022-04-05         3         7         0\n",
       "..        ...       ...       ...       ...\n",
       "84 2022-06-24         4         5        -1\n",
       "85 2022-06-25         0         1         1\n",
       "86 2022-06-26         5         2         6\n",
       "87 2022-06-27         3         5         2\n",
       "88 2022-06-28         3        -1         5\n",
       "\n",
       "[89 rows x 4 columns]"
      ]
     },
     "execution_count": 46,
     "metadata": {},
     "output_type": "execute_result"
    }
   ],
   "source": [
    "#use timedelta to get the dates for Q2\n",
    "from datetime import timedelta\n",
    "sales_data['Date'] = sales_data['Date'] + timedelta(days=90)\n",
    "\n",
    "#aggregate for three Branches\n",
    "aggregate = pd.DataFrame({'Date':sales_data['Date'].value_counts().sort_index(ascending = True).index,\n",
    "                         'Branch A':binom2_A,\n",
    "                         'Branch B':binom2_B,\n",
    "                         'Branch C':binom2_C})\n",
    "aggregate"
   ]
  }
 ],
 "metadata": {
  "kernelspec": {
   "display_name": "Python 3",
   "language": "python",
   "name": "python3"
  },
  "language_info": {
   "codemirror_mode": {
    "name": "ipython",
    "version": 3
   },
   "file_extension": ".py",
   "mimetype": "text/x-python",
   "name": "python",
   "nbconvert_exporter": "python",
   "pygments_lexer": "ipython3",
   "version": "3.8.8"
  }
 },
 "nbformat": 4,
 "nbformat_minor": 2
}
